{
 "cells": [
  {
   "cell_type": "code",
   "execution_count": 1,
   "id": "18e6beaa-416d-47aa-8938-360104091b61",
   "metadata": {},
   "outputs": [],
   "source": [
    "import sys\n",
    "sys.path.append(\"../testbench/\")"
   ]
  },
  {
   "cell_type": "code",
   "execution_count": 2,
   "id": "046abd68-e216-4ed4-a053-c4b5dc205e68",
   "metadata": {},
   "outputs": [],
   "source": [
    "import numpy as np\n",
    "import pandas as pd\n",
    "import matplotlib.pyplot as plt"
   ]
  },
  {
   "cell_type": "code",
   "execution_count": 3,
   "id": "d7194e80-5b99-470c-a2a7-bb8007b5d658",
   "metadata": {},
   "outputs": [],
   "source": [
    "from lib import load_results as loadr"
   ]
  },
  {
   "cell_type": "code",
   "execution_count": 13,
   "id": "5e7c9f60-ca66-4619-a2dd-a901311a5cfa",
   "metadata": {},
   "outputs": [],
   "source": [
    "type_graph=\"RRG\"\n",
    "N=100\n",
    "d=10\n",
    "height=3\n",
    "lam=0.035\n",
    "mu=0.\n",
    "t_limit=15\n",
    "p_edge=1\n",
    "nsrc=1\n",
    "\n",
    "scale=2\n",
    "\n",
    "gamma=1e-3\n",
    "small_lambda_limit=0\n",
    "path_contacts=\"..\"\n",
    "\n",
    "pr_sympt=0.5\n",
    "#n_test_rnd=3\n",
    "n_test_rnd=1\n",
    "delay_test_p=[0.,0.4 ,0.5, 0.6] "
   ]
  },
  {
   "cell_type": "code",
   "execution_count": 4,
   "id": "8d71b1ea-3816-41ce-a628-c3f68b5a998d",
   "metadata": {},
   "outputs": [],
   "source": [
    "type_graph=\"RRG\"\n",
    "N=200\n",
    "d=15\n",
    "height=3\n",
    "lam=0.035\n",
    "mu=0.\n",
    "t_limit=15\n",
    "p_edge=1\n",
    "nsrc=1\n",
    "\n",
    "scale=2\n",
    "\n",
    "gamma=1e-3\n",
    "small_lambda_limit=0\n",
    "path_contacts=\"..\"\n",
    "\n",
    "pr_sympt=0.5\n",
    "#n_test_rnd=3\n",
    "n_test_rnd=1\n",
    "delay_test_p=[0.,0.4 ,0.5, 0.6] "
   ]
  },
  {
   "cell_type": "code",
   "execution_count": 4,
   "id": "f6949b2f-5551-4433-8a3a-b431fcedb92d",
   "metadata": {},
   "outputs": [],
   "source": [
    "type_graph=\"RRG\"\n",
    "N=1000\n",
    "d=20\n",
    "height=3\n",
    "lam=0.035\n",
    "mu=0.\n",
    "t_limit=15\n",
    "p_edge=1\n",
    "nsrc=1\n",
    "\n",
    "scale=2\n",
    "\n",
    "gamma=1e-3\n",
    "small_lambda_limit=0\n",
    "path_contacts=\"..\"\n",
    "\n",
    "pr_sympt=0.5\n",
    "#n_test_rnd=3\n",
    "n_test_rnd=1\n",
    "delay_test_p=[0.,0.4 ,0.5, 0.6] "
   ]
  },
  {
   "cell_type": "code",
   "execution_count": 5,
   "id": "2daa3a2b-cc3e-4cc4-9b35-59e390439a62",
   "metadata": {},
   "outputs": [],
   "source": [
    "type_graph=\"proximity\"\n",
    "N=200\n",
    "d=10\n",
    "height=3\n",
    "lam=0.035\n",
    "mu=0.\n",
    "t_limit=15\n",
    "p_edge=1\n",
    "nsrc=1\n",
    "\n",
    "scale=1.8\n",
    "\n",
    "gamma=1e-3\n",
    "small_lambda_limit=0\n",
    "path_contacts=\"..\"\n",
    "\n",
    "pr_sympt=0.5\n",
    "#n_test_rnd=3\n",
    "n_test_rnd=1\n",
    "delay_test_p=[0.,0.4 ,0.5, 0.6] "
   ]
  },
  {
   "cell_type": "code",
   "execution_count": 5,
   "id": "61c20553-385f-4cef-af2c-08e740215674",
   "metadata": {},
   "outputs": [],
   "source": [
    "from epigen import EpInstance, epidemy_gen_epinstance"
   ]
  },
  {
   "cell_type": "code",
   "execution_count": 6,
   "id": "5f62876f-f11d-42a5-8bde-bcc4d2c5ae5f",
   "metadata": {},
   "outputs": [],
   "source": [
    "seeds = range(0,26)\n",
    "confs_range = (0,1)\n"
   ]
  },
  {
   "cell_type": "code",
   "execution_count": 7,
   "id": "764a9222-bf92-4e34-8f0d-a20a998152cd",
   "metadata": {},
   "outputs": [],
   "source": [
    "INSTANCES = {s:EpInstance(type_graph=type_graph,\n",
    "                          n=N,d=d,lamda=lam, mu=mu, \n",
    "                          t_limit=t_limit, p_edge=p_edge,\n",
    "                       n_source=1, seed=s) for s in seeds}"
   ]
  },
  {
   "cell_type": "code",
   "execution_count": 8,
   "id": "1e9b4245-b19d-4fd5-84b6-15163b391172",
   "metadata": {},
   "outputs": [],
   "source": [
    "extra_gen = dict(scale=scale, gamma=gamma, small_lambda_limit=small_lambda_limit,\n",
    "                path_contacts=path_contacts, h=height)"
   ]
  },
  {
   "cell_type": "code",
   "execution_count": 9,
   "id": "e092643a-6619-4857-bce7-a03c54e149f2",
   "metadata": {},
   "outputs": [],
   "source": [
    "%%capture\n",
    "ALL_DATA = {s: epidemy_gen_epinstance(INSTANCES[s],\n",
    "                                      lim_infected=1,\n",
    "                                      num_conf=confs_range[1],\n",
    "                                      extra_gen=extra_gen,\n",
    "                                      verbose=True,\n",
    "                                      print_out=True,\n",
    "                                 ) for s in INSTANCES}"
   ]
  },
  {
   "cell_type": "code",
   "execution_count": 10,
   "id": "f026109c-e14c-415a-a4ea-a9da2d95e102",
   "metadata": {},
   "outputs": [],
   "source": [
    "FIN_CONFS_ALL = {s: np.array(dat[\"test\"])[:,1] for s, dat in ALL_DATA.items()}"
   ]
  },
  {
   "cell_type": "code",
   "execution_count": 11,
   "id": "bdd64d65-ca28-415f-841f-81439c0ccc3e",
   "metadata": {},
   "outputs": [],
   "source": [
    "NINF = np.array([ [(d!=0).nonzero()[0].shape[0] for d in FIN_CONFS_ALL[s]] \n",
    "        for s in sorted(seeds)])"
   ]
  },
  {
   "cell_type": "code",
   "execution_count": 12,
   "id": "fe661e09-9e8b-461f-97a9-616b9e706114",
   "metadata": {},
   "outputs": [
    {
     "data": {
      "text/plain": [
       "Text(0, 0.5, 'CDF')"
      ]
     },
     "execution_count": 12,
     "metadata": {},
     "output_type": "execute_result"
    },
    {
     "data": {
      "image/png": "[encoded data removed]",
      "text/plain": [
       "<Figure size 432x288 with 1 Axes>"
      ]
     },
     "metadata": {
      "needs_background": "light"
     },
     "output_type": "display_data"
    }
   ],
   "source": [
    "idx,c = np.unique(NINF, return_counts=True)\n",
    "plt.plot(idx,c.cumsum())\n",
    "plt.grid()\n",
    "plt.xlabel(\"Ninf\")\n",
    "plt.ylabel(\"CDF\")"
   ]
  },
  {
   "cell_type": "code",
   "execution_count": 39,
   "id": "727155aa-5fe8-4ce0-9ecc-961a0719bd4a",
   "metadata": {},
   "outputs": [
    {
     "data": {
      "text/plain": [
       "(array([114, 174, 287, 367, 382, 386, 419, 445, 484, 577, 637, 666, 714,\n",
       "        730, 734, 738, 747, 753, 793, 812, 823, 831, 849, 901, 929, 938]),\n",
       " array([1, 1, 1, 1, 1, 1, 1, 1, 1, 1, 1, 1, 1, 1, 1, 1, 1, 1, 1, 1, 1, 1,\n",
       "        1, 1, 1, 1]))"
      ]
     },
     "execution_count": 39,
     "metadata": {},
     "output_type": "execute_result"
    }
   ],
   "source": [
    "idx,c"
   ]
  },
  {
   "cell_type": "code",
   "execution_count": 14,
   "id": "c7ff0b29-531b-4e6f-b207-e8ec98b0ebe7",
   "metadata": {},
   "outputs": [
    {
     "data": {
      "text/plain": [
       "array([[1, 1, 1, 1, 1, 1, 1, 1, 1, 1, 1, 1, 1, 1, 1, 1, 1, 1, 0, 0, 1, 1,\n",
       "        1, 1, 1, 1, 1, 1, 1, 1, 1, 1, 1, 1, 1, 1, 1, 1, 0, 1, 1, 0, 1, 1,\n",
       "        1, 1, 1, 1, 1, 1, 0, 1, 0, 0, 1, 1, 1, 1, 1, 1, 1, 1, 0, 1, 1, 1,\n",
       "        1, 1, 1, 1, 0, 1, 1, 0, 1, 1, 1, 1, 1, 1, 0, 0, 1, 0, 1, 1, 1, 0,\n",
       "        1, 1, 1, 1, 1, 0, 1, 1, 0, 1, 1, 1, 1, 1, 1, 0, 1, 0, 1, 1, 0, 0,\n",
       "        1, 1, 1, 1, 1, 1, 0, 1, 1, 1, 1, 1, 1, 1, 1, 0, 0, 1, 1, 0, 1, 0,\n",
       "        1, 1, 0, 1, 1, 1, 1, 1, 0, 1, 1, 1, 1, 1, 0, 0, 1, 1, 1, 1, 0, 0,\n",
       "        1, 1, 0, 0, 1, 1, 1, 1, 1, 1, 1, 1, 1, 1, 0, 1, 1, 1, 1, 1, 0, 1,\n",
       "        1, 1, 1, 0, 1, 1, 1, 1, 1, 1, 1, 1, 1, 1, 1, 1, 1, 1, 1, 1, 1, 1,\n",
       "        0, 1, 1, 1, 0, 1, 0, 0, 1, 1, 0, 1, 0, 1, 1, 1, 1, 1, 1, 0, 1, 1,\n",
       "        1, 0, 1, 0, 1, 1, 1, 1, 1, 1, 1, 0, 0, 1, 1, 1, 1, 0, 1, 0, 1, 0,\n",
       "        1, 1, 0, 1, 1, 1, 0, 1, 1, 1, 0, 1, 1, 1, 1, 1, 1, 1, 1, 1, 1, 1,\n",
       "        1, 1, 1, 1, 1, 1, 1, 0, 1, 1, 1, 1, 1, 1, 0, 1, 1, 1, 1, 1, 0, 1,\n",
       "        0, 1, 0, 0, 0, 1, 1, 1, 1, 1, 0, 1, 1, 1, 1, 1, 1, 1, 1, 1, 1, 0,\n",
       "        1, 1, 1, 1, 1, 1, 1, 1, 1, 1, 1, 1, 1, 1, 1, 1, 1, 1, 1, 1, 1, 1,\n",
       "        1, 1, 1, 0, 1, 1, 1, 1, 1, 1, 0, 1, 1, 1, 1, 1, 1, 1, 1, 1, 0, 0,\n",
       "        1, 1, 1, 1, 1, 1, 1, 1, 1, 1, 0, 1, 1, 1, 1, 1, 1, 1, 1, 1, 1, 1,\n",
       "        1, 0, 1, 1, 0, 1, 1, 1, 1, 1, 1, 1, 1, 1, 1, 1, 0, 0, 1, 1, 1, 1,\n",
       "        1, 1, 0, 1, 1, 1, 1, 0, 1, 1, 1, 1, 1, 0, 0, 1, 1, 1, 1, 1, 1, 1,\n",
       "        0, 0, 0, 1, 1, 1, 1, 1, 1, 0, 1, 0, 0, 0, 1, 1, 0, 1, 1, 0, 1, 1,\n",
       "        1, 1, 0, 1, 1, 1, 1, 1, 1, 1, 1, 1, 1, 1, 0, 1, 1, 1, 1, 0, 1, 1,\n",
       "        0, 1, 1, 1, 1, 1, 1, 1, 1, 1, 1, 1, 1, 1, 1, 1, 1, 1, 1, 1, 0, 1,\n",
       "        0, 1, 1, 1, 1, 0, 1, 1, 0, 1, 1, 1, 1, 0, 1, 1, 1, 1, 1, 1, 1, 1,\n",
       "        0, 1, 1, 1, 1, 1, 1, 1, 1, 1, 1, 1, 1, 1, 1, 1, 0, 1, 1, 1, 1, 1,\n",
       "        1, 1, 0, 1, 1, 1, 1, 0, 1, 1, 1, 1, 1, 1, 1, 1, 1, 1, 1, 1, 0, 1,\n",
       "        1, 1, 1, 1, 1, 1, 1, 0, 1, 1, 1, 1, 1, 1, 1, 1, 1, 0, 1, 1, 1, 1,\n",
       "        1, 1, 1, 1, 1, 0, 1, 0, 1, 1, 0, 0, 1, 1, 1, 1, 1, 1, 1, 1, 1, 1,\n",
       "        1, 1, 1, 1, 1, 1, 1, 1, 1, 0, 1, 0, 1, 1, 1, 0, 1, 0, 1, 0, 1, 1,\n",
       "        1, 1, 1, 1, 1, 1, 1, 1, 1, 1, 1, 1, 1, 1, 1, 1, 1, 1, 0, 1, 1, 1,\n",
       "        1, 1, 1, 1, 1, 1, 1, 1, 0, 1, 1, 1, 1, 0, 1, 1, 1, 1, 0, 0, 0, 1,\n",
       "        0, 1, 0, 1, 1, 1, 0, 1, 1, 1, 1, 1, 1, 1, 1, 1, 1, 0, 0, 1, 1, 1,\n",
       "        1, 1, 1, 1, 1, 1, 1, 1, 1, 1, 0, 1, 1, 1, 1, 1, 0, 1, 1, 1, 1, 0,\n",
       "        0, 1, 1, 1, 0, 1, 1, 1, 0, 1, 1, 1, 0, 1, 1, 1, 1, 1, 1, 1, 1, 1,\n",
       "        1, 1, 1, 1, 1, 1, 1, 1, 1, 1, 1, 0, 0, 1, 0, 0, 1, 1, 1, 1, 1, 1,\n",
       "        1, 1, 1, 1, 1, 1, 1, 0, 1, 1, 1, 1, 1, 1, 0, 0, 1, 0, 0, 1, 1, 1,\n",
       "        1, 1, 1, 0, 1, 1, 1, 1, 0, 1, 0, 1, 0, 1, 0, 1, 0, 0, 1, 1, 1, 1,\n",
       "        0, 1, 1, 1, 1, 1, 1, 1, 1, 1, 1, 1, 1, 1, 1, 1, 0, 1, 1, 1, 1, 1,\n",
       "        1, 1, 1, 0, 1, 0, 1, 1, 1, 1, 1, 1, 0, 1, 1, 0, 1, 1, 1, 1, 1, 1,\n",
       "        1, 0, 0, 0, 1, 1, 1, 1, 1, 1, 1, 1, 1, 1, 1, 1, 1, 0, 1, 1, 1, 1,\n",
       "        1, 1, 1, 1, 1, 1, 1, 1, 1, 1, 1, 1, 1, 1, 1, 1, 1, 1, 1, 0, 1, 0,\n",
       "        1, 1, 1, 1, 1, 1, 1, 1, 0, 1, 1, 1, 0, 1, 1, 1, 1, 1, 1, 1, 1, 1,\n",
       "        1, 0, 1, 0, 1, 1, 0, 1, 1, 1, 1, 1, 0, 0, 1, 1, 0, 1, 1, 1, 1, 1,\n",
       "        1, 0, 1, 1, 1, 1, 0, 0, 1, 0, 1, 1, 1, 1, 0, 1, 1, 1, 0, 1, 1, 1,\n",
       "        1, 1, 1, 1, 1, 1, 1, 1, 1, 1, 1, 1, 1, 1, 1, 1, 1, 1, 0, 1, 1, 1,\n",
       "        1, 1, 1, 0, 1, 1, 0, 0, 1, 0, 1, 1, 1, 0, 1, 1, 1, 0, 1, 1, 1, 1,\n",
       "        1, 1, 1, 1, 1, 1, 1, 1, 0, 1]])"
      ]
     },
     "execution_count": 14,
     "metadata": {},
     "output_type": "execute_result"
    }
   ],
   "source": [
    "FIN_CONFS_ALL[0]"
   ]
  },
  {
   "cell_type": "code",
   "execution_count": 15,
   "id": "daee22d1-a806-4848-a95a-b5a13ec8aa50",
   "metadata": {},
   "outputs": [],
   "source": [
    "from epigen import observ_gen"
   ]
  },
  {
   "cell_type": "code",
   "execution_count": 16,
   "id": "294b8505-c9b0-48a8-8ea1-d44cebcd60b8",
   "metadata": {},
   "outputs": [],
   "source": [
    "probs_delay_t = np.array(delay_test_p)/sum(delay_test_p)"
   ]
  },
  {
   "cell_type": "code",
   "execution_count": 17,
   "id": "f8e6479d-6f25-4ad9-afd1-5cf7caed7cfe",
   "metadata": {},
   "outputs": [],
   "source": [
    "OBS_DF_ALL = {\n",
    "    s: observ_gen.make_sparse_obs_default(dat,t_limit,\n",
    "                                         n_test_rnd,pr_sympt=pr_sympt,\n",
    "                                        p_test_delay=probs_delay_t,\n",
    "                                          seed=s, numeric_obs=True\n",
    "                                         )[0]\n",
    "    for s, dat in ALL_DATA.items()\n",
    "}"
   ]
  },
  {
   "cell_type": "code",
   "execution_count": 18,
   "id": "ed4a33fc-b412-4d9f-be8d-443cbe0681a7",
   "metadata": {},
   "outputs": [],
   "source": [
    "N_FIND = [\n",
    "\n",
    "    #print(o[0].keys())\n",
    "    [NINF[s][i]-len(x[x.obs==1]) for i,x in enumerate(o)]\n",
    "    for s,o in OBS_DF_ALL.items()]"
   ]
  },
  {
   "cell_type": "code",
   "execution_count": 19,
   "id": "6c304687-ff27-455a-b19d-ad9eba0fcc8a",
   "metadata": {},
   "outputs": [],
   "source": [
    "from lib import load_results\n"
   ]
  },
  {
   "cell_type": "code",
   "execution_count": 20,
   "id": "51ded9a8-ad06-4b05-bfbe-3953e883531f",
   "metadata": {},
   "outputs": [],
   "source": [
    "margs = {}"
   ]
  },
  {
   "cell_type": "code",
   "execution_count": 21,
   "id": "5543540c-55eb-4602-a558-6a011cbdb467",
   "metadata": {},
   "outputs": [],
   "source": [
    "for s,inst in INSTANCES.items():\n",
    "    inst.p_edge = float(inst.p_edge)"
   ]
  },
  {
   "cell_type": "code",
   "execution_count": 22,
   "id": "db6d397c-e96c-4f03-9a4c-f27d1108550d",
   "metadata": {},
   "outputs": [],
   "source": [
    "risks = {}"
   ]
  },
  {
   "cell_type": "markdown",
   "id": "1b903600-697a-4b35-82d6-1cfa6b98f1c7",
   "metadata": {},
   "source": [
    "## RRG 100"
   ]
  },
  {
   "cell_type": "code",
   "execution_count": 63,
   "id": "48f4a88f-a027-435b-8022-2b6d23b91153",
   "metadata": {},
   "outputs": [],
   "source": [
    "margs[\"EPI\"] = {s:\n",
    "        load_results.read_margs_inst(\"epijl/RRG_1src/1rnd/\",\n",
    "                                     INSTANCES[s],\n",
    "                                     prefix=\"exp_\",\n",
    "                                     range_confs=confs_range,\n",
    "                                     outprint=False,\n",
    "                                    )\n",
    "                for s in INSTANCES\n",
    "}"
   ]
  },
  {
   "cell_type": "code",
   "execution_count": 66,
   "id": "4893c4d0-45bd-48ae-b45f-793153aa7d8e",
   "metadata": {},
   "outputs": [],
   "source": [
    "risks[\"MF\"] = {s:\n",
    "        load_results.read_risk_inst(\"rankers/RRG_1src/\",\n",
    "                                     INSTANCES[s],\n",
    "                                    \"MF\",\n",
    "                                     prefix=\"1rnd_tau4_d10_\",\n",
    "                                     range_confs=confs_range,\n",
    "                                     outprint=False,\n",
    "                                    )\n",
    "                for s in INSTANCES\n",
    "}"
   ]
  },
  {
   "cell_type": "markdown",
   "id": "9fff706c-8853-4dcf-a4e0-456b6149e7b6",
   "metadata": {
    "tags": []
   },
   "source": [
    "## RRG 200"
   ]
  },
  {
   "cell_type": "code",
   "execution_count": 22,
   "id": "a7be6765-7652-4936-87c2-0d4038aeae09",
   "metadata": {},
   "outputs": [],
   "source": [
    "margs[\"EPI\"] = {s:\n",
    "        load_results.read_margs_inst(\"epijl/RRG_1src/N_200_1rnd/\",\n",
    "                                     INSTANCES[s],\n",
    "                                     prefix=\"sp_1rnd_\",\n",
    "                                     range_confs=confs_range,\n",
    "                                     outprint=False,\n",
    "                                    )\n",
    "                for s in INSTANCES\n",
    "}"
   ]
  },
  {
   "cell_type": "code",
   "execution_count": 25,
   "id": "3d091200-8d5d-439a-8601-1bfa3abdfc32",
   "metadata": {},
   "outputs": [],
   "source": [
    "risks[\"MF\"] = {s:\n",
    "        load_results.read_risk_inst(\"rankers/RRG_1src/N_200/\",\n",
    "                                     INSTANCES[s],\n",
    "                                    \"MF\",\n",
    "                                     prefix=\"1rnd_tau4_d10_\",\n",
    "                                     range_confs=confs_range,\n",
    "                                     outprint=False,\n",
    "                                    )\n",
    "                for s in INSTANCES\n",
    "}"
   ]
  },
  {
   "cell_type": "markdown",
   "id": "29bec16c-6d48-48db-a84d-dd3aff6130ff",
   "metadata": {
    "tags": []
   },
   "source": [
    "## RRG 200"
   ]
  },
  {
   "cell_type": "code",
   "execution_count": 22,
   "id": "b186fbde-1405-4040-931f-e7a229293016",
   "metadata": {},
   "outputs": [],
   "source": [
    "margs[\"EPI\"] = {s:\n",
    "        load_results.read_margs_inst(\"epijl/RRG_1src/N_200_1rnd/\",\n",
    "                                     INSTANCES[s],\n",
    "                                     prefix=\"sp_1rnd_\",\n",
    "                                     range_confs=confs_range,\n",
    "                                     outprint=False,\n",
    "                                    )\n",
    "                for s in INSTANCES\n",
    "}"
   ]
  },
  {
   "cell_type": "code",
   "execution_count": 25,
   "id": "cc4819a6-0026-41c9-855f-f017cbfd2958",
   "metadata": {},
   "outputs": [],
   "source": [
    "risks[\"MF\"] = {s:\n",
    "        load_results.read_risk_inst(\"rankers/RRG_1src/N_200/\",\n",
    "                                     INSTANCES[s],\n",
    "                                    \"MF\",\n",
    "                                     prefix=\"1rnd_tau4_d10_\",\n",
    "                                     range_confs=confs_range,\n",
    "                                     outprint=False,\n",
    "                                    )\n",
    "                for s in INSTANCES\n",
    "}"
   ]
  },
  {
   "cell_type": "markdown",
   "id": "d25309ee-a09f-4d86-81f6-3981aa59ba49",
   "metadata": {
    "tags": []
   },
   "source": [
    "## RRG 1000"
   ]
  },
  {
   "cell_type": "code",
   "execution_count": 23,
   "id": "a485bbaa-9f7e-4e10-a1d0-d94e671dd657",
   "metadata": {},
   "outputs": [],
   "source": [
    "margs[\"EPI\"] = {s:\n",
    "        load_results.read_margs_inst(f\"epijl/RRG_1src/N_{N}_1rnd/\",\n",
    "                                     INSTANCES[s],\n",
    "                                     prefix=\"sp_1rnd_\",\n",
    "                                     range_confs=confs_range,\n",
    "                                     outprint=False,\n",
    "                                    )\n",
    "                for s in INSTANCES\n",
    "}"
   ]
  },
  {
   "cell_type": "code",
   "execution_count": 24,
   "id": "76177567-1f5c-409a-a7b9-eb95621f36d3",
   "metadata": {},
   "outputs": [],
   "source": [
    "risks[\"MF\"] = {s:\n",
    "        load_results.read_risk_inst(f\"rankers/RRG_1src/N_{N}/\",\n",
    "                                     INSTANCES[s],\n",
    "                                    \"MF\",\n",
    "                                     prefix=\"1rnd_tau4_d10_\",\n",
    "                                     range_confs=confs_range,\n",
    "                                     outprint=False,\n",
    "                                    )\n",
    "                for s in INSTANCES\n",
    "}"
   ]
  },
  {
   "cell_type": "code",
   "execution_count": 25,
   "id": "33640889-48a2-4eb0-bb03-14ca160b04d8",
   "metadata": {},
   "outputs": [
    {
     "data": {
      "text/plain": [
       "(1000, 16)"
      ]
     },
     "execution_count": 25,
     "metadata": {},
     "output_type": "execute_result"
    }
   ],
   "source": [
    "margs[\"EPI\"][0][0].shape"
   ]
  },
  {
   "cell_type": "code",
   "execution_count": 26,
   "id": "faa2872e-1baf-4594-ae0f-f40516b45734",
   "metadata": {},
   "outputs": [],
   "source": [
    "def p_inf_from_m(m, t_limit):\n",
    "    return pd.Series(m[:,t_limit])"
   ]
  },
  {
   "cell_type": "code",
   "execution_count": 27,
   "id": "66477125-8578-43e4-8c69-b741f8e04020",
   "metadata": {},
   "outputs": [],
   "source": [
    "risks[\"EPI\"] = {s:\n",
    "               [p_inf_from_m(m, INSTANCES[s].t_limit) for m in margs]\n",
    "                for s,margs in margs[\"EPI\"].items()\n",
    "               }"
   ]
  },
  {
   "cell_type": "code",
   "execution_count": 28,
   "id": "1955d3ae-8b7b-44a9-8619-f46a335b9102",
   "metadata": {},
   "outputs": [],
   "source": [
    "from lib import risk_pred"
   ]
  },
  {
   "cell_type": "code",
   "execution_count": 29,
   "id": "63d19e6d-704d-4223-b5af-5a5e1abca2bb",
   "metadata": {},
   "outputs": [],
   "source": [
    "from sklearn.metrics import auc"
   ]
  },
  {
   "cell_type": "code",
   "execution_count": 30,
   "id": "a427e5b3-66f0-4900-b39f-2d2adc05c05a",
   "metadata": {},
   "outputs": [],
   "source": [
    "ROCS_all = {k:\n",
    "    [risk_pred.calc_rocs_risk(rkcase[s], FIN_CONFS_ALL[s],\n",
    "                         OBS_DF_ALL[s], INSTANCES[s],)\n",
    "     for s in sorted(rkcase.keys())]\n",
    "    for k, rkcase in risks.items()\n",
    "}\n",
    "AUCS_all = {k:\n",
    "            np.array([\n",
    "    [auc(r[0],r[1]) for r in ro] for ro in rocs\n",
    "            ])\n",
    "    for k, rocs in ROCS_all.items()\n",
    "}"
   ]
  },
  {
   "cell_type": "code",
   "execution_count": 31,
   "id": "09310587-d8d3-4e42-a265-9e8b2fc8abe8",
   "metadata": {},
   "outputs": [
    {
     "data": {
      "text/plain": [
       "[<matplotlib.lines.Line2D at 0x7f1c0f4ae580>]"
      ]
     },
     "execution_count": 31,
     "metadata": {},
     "output_type": "execute_result"
    },
    {
     "data": {
      "image/png": "[encoded data removed]",
      "text/plain": [
       "<Figure size 432x288 with 1 Axes>"
      ]
     },
     "metadata": {
      "needs_background": "light"
     },
     "output_type": "display_data"
    }
   ],
   "source": [
    "plt.plot(AUCS_all[\"MF\"][f])\n",
    "plt.plot(AUCS_all[\"EPI\"][f])"
   ]
  },
  {
   "cell_type": "code",
   "execution_count": 32,
   "id": "4aa5cd60-1a71-43d5-a308-533799852e4e",
   "metadata": {},
   "outputs": [
    {
     "data": {
      "text/plain": [
       "<matplotlib.legend.Legend at 0x7f1c0f422340>"
      ]
     },
     "execution_count": 32,
     "metadata": {},
     "output_type": "execute_result"
    },
    {
     "data": {
      "image/png": "[encoded data removed]",
      "text/plain": [
       "<Figure size 432x288 with 1 Axes>"
      ]
     },
     "metadata": {
      "needs_background": "light"
     },
     "output_type": "display_data"
    }
   ],
   "source": [
    "plt.plot(AUCS_all[\"MF\"].flatten())\n",
    "plt.plot(AUCS_all[\"EPI\"].flatten(),\"*--\", label=\"EPI\")\n",
    "plt.legend()\n",
    "#plt.xlim((220,225))"
   ]
  },
  {
   "cell_type": "code",
   "execution_count": 37,
   "id": "e90fce33-8002-4850-920b-6d3eda04ec75",
   "metadata": {},
   "outputs": [
    {
     "data": {
      "text/plain": [
       "[<matplotlib.lines.Line2D at 0x7f1c0e899190>]"
      ]
     },
     "execution_count": 37,
     "metadata": {},
     "output_type": "execute_result"
    },
    {
     "data": {
      "image/png": "[encoded data removed]",
      "text/plain": [
       "<Figure size 432x288 with 1 Axes>"
      ]
     },
     "metadata": {
      "needs_background": "light"
     },
     "output_type": "display_data"
    }
   ],
   "source": [
    "s=25\n",
    "plt.plot(ROCS_all[\"MF\"][s][0][0], ROCS_all[\"MF\"][s][0][1])\n",
    "plt.plot(ROCS_all[\"EPI\"][s][0][0], ROCS_all[\"EPI\"][s][0][1])\n"
   ]
  },
  {
   "cell_type": "code",
   "execution_count": 42,
   "id": "132c80ed-0c2f-4d07-91b1-aa6ff8b74b46",
   "metadata": {},
   "outputs": [
    {
     "data": {
      "text/plain": [
       "(0.6955282112845138, 0.6452581032412965)"
      ]
     },
     "execution_count": 42,
     "metadata": {},
     "output_type": "execute_result"
    }
   ],
   "source": [
    "AUCS_all[\"EPI\"].flatten()[300], AUCS_all[\"MF\"].flatten()[300]"
   ]
  },
  {
   "cell_type": "code",
   "execution_count": 38,
   "id": "8bf89bd4-2b4a-479f-a024-380a12837d0a",
   "metadata": {},
   "outputs": [
    {
     "name": "stdout",
     "output_type": "stream",
     "text": [
      "MF\n",
      "0.610 \\pm 0.006\n",
      "EPI\n",
      "0.592 \\pm 0.006\n"
     ]
    }
   ],
   "source": [
    "for k in AUCS_all:\n",
    "    print(k)\n",
    "    m=np.nanmean(AUCS_all[k])\n",
    "    s=np.nanstd(AUCS_all[k])/np.sqrt(\n",
    "        np.prod(AUCS_all[k].shape)-np.isnan(AUCS_all[k]).sum())\n",
    "    print(f\"{m:4.3f} \\pm {s:4.3f}\")"
   ]
  },
  {
   "cell_type": "code",
   "execution_count": null,
   "id": "6899f08a-0ebd-4c71-8266-491b791a4d61",
   "metadata": {},
   "outputs": [],
   "source": []
  },
  {
   "cell_type": "code",
   "execution_count": 12,
   "id": "91c377e5-4aba-45d8-bdad-c761da282f8a",
   "metadata": {},
   "outputs": [],
   "source": [
    "v = np.load(\"epijl/proximity_1src/N_200/sp_0rnd_proximity_n_200_d_10_tlim_15_lam_0.035_mu_0_s_0_pe_1.0_contacts.npz\")"
   ]
  },
  {
   "cell_type": "code",
   "execution_count": 17,
   "id": "7f516bb3-75e8-45e4-aef9-bc6f66517548",
   "metadata": {},
   "outputs": [],
   "source": [
    "contacts = v[\"arr_0\"]"
   ]
  },
  {
   "cell_type": "code",
   "execution_count": 16,
   "id": "ae24e262-f618-49aa-9971-0f0cccb58425",
   "metadata": {},
   "outputs": [
    {
     "data": {
      "text/plain": [
       "('arr_0',)"
      ]
     },
     "execution_count": 16,
     "metadata": {},
     "output_type": "execute_result"
    }
   ],
   "source": [
    "tuple(v.keys())"
   ]
  },
  {
   "cell_type": "code",
   "execution_count": 19,
   "id": "57ac8cc5-6f6f-42da-b124-40bf9cc01584",
   "metadata": {},
   "outputs": [],
   "source": [
    "ct_MF = np.load(\"rankers/proximity_1src/1rnd_tau4_d10_proximity_n_200_d_10_tlim_15_lam_0.035_mu_0_s_0_pe_1.0_rk_MF_contacts.npz\")[\"contacts\"]"
   ]
  },
  {
   "cell_type": "code",
   "execution_count": 23,
   "id": "8231c8e3-3b74-46b4-a71c-9e6b6fb958ed",
   "metadata": {},
   "outputs": [
    {
     "data": {
      "text/plain": [
       "array([[  0.,   0.,   3.],\n",
       "       [  0.,   0.,  11.],\n",
       "       [  0.,   0.,  12.],\n",
       "       [  0.,   0.,  20.],\n",
       "       [  0.,   0.,  31.],\n",
       "       [  0.,   0.,  36.],\n",
       "       [  0.,   0.,  84.],\n",
       "       [  0.,   0.,  96.],\n",
       "       [  0.,   0., 105.],\n",
       "       [  0.,   0., 124.],\n",
       "       [  0.,   0., 128.],\n",
       "       [  0.,   0., 137.],\n",
       "       [  0.,   0., 143.],\n",
       "       [  0.,   0., 145.],\n",
       "       [  0.,   0., 152.],\n",
       "       [  0.,   0., 157.],\n",
       "       [  0.,   0., 163.],\n",
       "       [  0.,   0., 170.],\n",
       "       [  0.,   1.,  19.],\n",
       "       [  0.,   1.,  23.]])"
      ]
     },
     "execution_count": 23,
     "metadata": {},
     "output_type": "execute_result"
    }
   ],
   "source": [
    "ct_MF[:20,:3]"
   ]
  },
  {
   "cell_type": "code",
   "execution_count": null,
   "id": "4f9613ec-49ac-4d6b-957a-52b2ae297bc4",
   "metadata": {},
   "outputs": [],
   "source": []
  }
 ],
 "metadata": {
  "kernelspec": {
   "display_name": "Python 3.8 (torche)",
   "language": "python",
   "name": "python38torche"
  },
  "language_info": {
   "codemirror_mode": {
    "name": "ipython",
    "version": 3
   },
   "file_extension": ".py",
   "mimetype": "text/x-python",
   "name": "python",
   "nbconvert_exporter": "python",
   "pygments_lexer": "ipython3",
   "version": "3.8.8"
  }
 },
 "nbformat": 4,
 "nbformat_minor": 5
}
